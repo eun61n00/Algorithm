{
 "cells": [
  {
   "cell_type": "code",
   "execution_count": 23,
   "id": "premier-mystery",
   "metadata": {},
   "outputs": [
    {
     "name": "stdout",
     "output_type": "stream",
     "text": [
      "6\n",
      "2\n",
      "3\n",
      "2\n",
      "3\n",
      "2\n",
      "4\n",
      "10\n"
     ]
    }
   ],
   "source": [
    "import sys\n",
    "n = int(input())\n",
    "list = []\n",
    "answer = -1\n",
    "\n",
    "for _ in range(n):\n",
    "    list.append(int(sys.stdin.readline()))\n",
    "    \n",
    "list.sort(reverse=True)\n",
    "\n",
    "for i in range(n-2):\n",
    "    if list[i] < list[i+1] + list[i+2]:\n",
    "        answer = list[i] + list[i+1] + list[i+2]\n",
    "        break\n",
    "print(answer)"
   ]
  },
  {
   "cell_type": "code",
   "execution_count": 12,
   "id": "existing-committee",
   "metadata": {},
   "outputs": [
    {
     "data": {
      "text/plain": [
       "[9, 4, 4]"
      ]
     },
     "execution_count": 12,
     "metadata": {},
     "output_type": "execute_result"
    }
   ],
   "source": [
    "list"
   ]
  },
  {
   "cell_type": "code",
   "execution_count": 21,
   "id": "million-matthew",
   "metadata": {},
   "outputs": [],
   "source": [
    "import sys"
   ]
  },
  {
   "cell_type": "code",
   "execution_count": null,
   "id": "available-saudi",
   "metadata": {},
   "outputs": [],
   "source": []
  }
 ],
 "metadata": {
  "kernelspec": {
   "display_name": "Python 3",
   "language": "python",
   "name": "python3"
  },
  "language_info": {
   "codemirror_mode": {
    "name": "ipython",
    "version": 3
   },
   "file_extension": ".py",
   "mimetype": "text/x-python",
   "name": "python",
   "nbconvert_exporter": "python",
   "pygments_lexer": "ipython3",
   "version": "3.7.3"
  }
 },
 "nbformat": 4,
 "nbformat_minor": 5
}
