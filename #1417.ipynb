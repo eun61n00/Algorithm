{
 "cells": [
  {
   "cell_type": "code",
   "execution_count": 27,
   "id": "recognized-electric",
   "metadata": {
    "scrolled": true
   },
   "outputs": [
    {
     "name": "stdout",
     "output_type": "stream",
     "text": [
      "4\n",
      "2\n",
      "9\n",
      "10\n",
      "4\n",
      "votes:  [3, 9, 9, 4]\n",
      "votes:  [4, 8, 9, 4]\n",
      "votes:  [5, 8, 8, 4]\n",
      "votes:  [6, 7, 8, 4]\n",
      "votes:  [7, 7, 7, 4]\n",
      "5\n"
     ]
    }
   ],
   "source": [
    "n = int(input())\n",
    "votes = []\n",
    "cnt = 0\n",
    "\n",
    "for _ in range(n):\n",
    "    votes.append(int(input()))\n",
    "\n",
    "while votes.index(max(votes)) != 0:\n",
    "    votes[votes.index(max(votes))] -= 1\n",
    "    votes[0] += 1\n",
    "    cnt += 1\n",
    "    print('votes: ', votes)\n",
    "print(cnt)"
   ]
  },
  {
   "cell_type": "code",
   "execution_count": 28,
   "id": "technological-debate",
   "metadata": {},
   "outputs": [
    {
     "name": "stdout",
     "output_type": "stream",
     "text": [
      "4\n",
      "2\n",
      "9\n",
      "10\n",
      "4\n",
      "votes:  [3, 9, 9, 4]\n",
      "votes:  [4, 8, 9, 4]\n",
      "votes:  [5, 8, 8, 4]\n",
      "votes:  [6, 7, 8, 4]\n",
      "votes:  [7, 7, 7, 4]\n",
      "votes:  [8, 6, 7, 4]\n",
      "6\n"
     ]
    }
   ],
   "source": [
    "n = int(input())\n",
    "votes = []\n",
    "cnt = 0\n",
    "\n",
    "for _ in range(n):\n",
    "    votes.append(int(input()))\n",
    "\n",
    "while votes.index(max(votes)) != 0:\n",
    "    votes[votes.index(max(votes))] -= 1\n",
    "    votes[0] += 1\n",
    "    cnt += 1\n",
    "    print('votes: ', votes)\n",
    "\n",
    "for i in range(1, n):\n",
    "    if votes[0] == votes[i]:\n",
    "        votes[i] -= 1\n",
    "        votes[0] += 1\n",
    "        cnt += 1\n",
    "        print('votes: ', votes)\n",
    "print(cnt)"
   ]
  },
  {
   "cell_type": "code",
   "execution_count": 23,
   "id": "brief-firmware",
   "metadata": {},
   "outputs": [
    {
     "data": {
      "text/plain": [
       "array([2, 9, 4])"
      ]
     },
     "execution_count": 23,
     "metadata": {},
     "output_type": "execute_result"
    }
   ],
   "source": [
    "votes"
   ]
  },
  {
   "cell_type": "code",
   "execution_count": 7,
   "id": "coastal-freedom",
   "metadata": {},
   "outputs": [
    {
     "data": {
      "text/plain": [
       "1"
      ]
     },
     "execution_count": 7,
     "metadata": {},
     "output_type": "execute_result"
    }
   ],
   "source": [
    "voting.index(max(voting))"
   ]
  },
  {
   "cell_type": "code",
   "execution_count": 8,
   "id": "connected-brook",
   "metadata": {},
   "outputs": [],
   "source": [
    "voting[voting.index(max(voting))] -= 1"
   ]
  },
  {
   "cell_type": "code",
   "execution_count": 9,
   "id": "developed-press",
   "metadata": {},
   "outputs": [
    {
     "data": {
      "text/plain": [
       "[5, 6, 7]"
      ]
     },
     "execution_count": 9,
     "metadata": {},
     "output_type": "execute_result"
    }
   ],
   "source": [
    "voting"
   ]
  },
  {
   "cell_type": "code",
   "execution_count": null,
   "id": "ahead-developer",
   "metadata": {},
   "outputs": [],
   "source": []
  }
 ],
 "metadata": {
  "kernelspec": {
   "display_name": "Python 3",
   "language": "python",
   "name": "python3"
  },
  "language_info": {
   "codemirror_mode": {
    "name": "ipython",
    "version": 3
   },
   "file_extension": ".py",
   "mimetype": "text/x-python",
   "name": "python",
   "nbconvert_exporter": "python",
   "pygments_lexer": "ipython3",
   "version": "3.7.3"
  }
 },
 "nbformat": 4,
 "nbformat_minor": 5
}
