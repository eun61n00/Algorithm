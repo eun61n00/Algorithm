{
 "cells": [
  {
   "cell_type": "code",
   "execution_count": 1,
   "id": "hawaiian-opening",
   "metadata": {},
   "outputs": [
    {
     "name": "stdout",
     "output_type": "stream",
     "text": [
      "11\n",
      "1 4\n",
      "3 5\n",
      "0 6\n",
      "5 7\n",
      "3 8\n",
      "5 9\n",
      "6 10\n",
      "8 11\n",
      "8 12\n",
      "2 13\n",
      "12 14\n"
     ]
    }
   ],
   "source": [
    "n = int(input())\n",
    "meetings = []\n",
    "\n",
    "for _ in range(n):\n",
    "    [s, f] = list(map(int, input().split()))\n",
    "    meetings.append([s, f])"
   ]
  },
  {
   "cell_type": "code",
   "execution_count": 3,
   "id": "cardiac-reliance",
   "metadata": {},
   "outputs": [],
   "source": [
    "meetings.sort()"
   ]
  },
  {
   "cell_type": "code",
   "execution_count": 4,
   "id": "imported-therapy",
   "metadata": {},
   "outputs": [
    {
     "data": {
      "text/plain": [
       "[[0, 6],\n",
       " [1, 4],\n",
       " [2, 13],\n",
       " [3, 5],\n",
       " [3, 8],\n",
       " [5, 7],\n",
       " [5, 9],\n",
       " [6, 10],\n",
       " [8, 11],\n",
       " [8, 12],\n",
       " [12, 14]]"
      ]
     },
     "execution_count": 4,
     "metadata": {},
     "output_type": "execute_result"
    }
   ],
   "source": [
    "meetings"
   ]
  },
  {
   "cell_type": "code",
   "execution_count": null,
   "id": "developed-industry",
   "metadata": {},
   "outputs": [],
   "source": [
    "for i in range(n):\n",
    "    finish = meetings[i][1]\n",
    "    for j in range(n-i-1):\n",
    "        meetings.find(finish+1)\n",
    "        "
   ]
  },
  {
   "cell_type": "code",
   "execution_count": 14,
   "id": "laughing-biodiversity",
   "metadata": {
    "scrolled": true
   },
   "outputs": [
    {
     "name": "stdout",
     "output_type": "stream",
     "text": [
      "5\n",
      "1 4\n",
      "5 10\n",
      "6 10\n",
      "4 10\n",
      "7 10\n",
      "2\n"
     ]
    }
   ],
   "source": [
    "n = int(input())\n",
    "meetings = []\n",
    "\n",
    "for _ in range(n):\n",
    "    s, f = map(int, input().split())\n",
    "    meetings.append((f, s))\n",
    "    \n",
    "meetings.sort()\n",
    "end = 0\n",
    "cnt = 0\n",
    "\n",
    "for f, s in meetings:\n",
    "    if s >= end:\n",
    "        end = f\n",
    "        cnt += 1\n",
    "\n",
    "print(cnt)"
   ]
  },
  {
   "cell_type": "code",
   "execution_count": 15,
   "id": "duplicate-manchester",
   "metadata": {},
   "outputs": [
    {
     "data": {
      "text/plain": [
       "[(4, 1), (10, 4), (10, 5), (10, 6), (10, 7)]"
      ]
     },
     "execution_count": 15,
     "metadata": {},
     "output_type": "execute_result"
    }
   ],
   "source": [
    "meetings"
   ]
  },
  {
   "cell_type": "code",
   "execution_count": null,
   "id": "forced-difficulty",
   "metadata": {},
   "outputs": [],
   "source": []
  }
 ],
 "metadata": {
  "kernelspec": {
   "display_name": "Python 3",
   "language": "python",
   "name": "python3"
  },
  "language_info": {
   "codemirror_mode": {
    "name": "ipython",
    "version": 3
   },
   "file_extension": ".py",
   "mimetype": "text/x-python",
   "name": "python",
   "nbconvert_exporter": "python",
   "pygments_lexer": "ipython3",
   "version": "3.7.3"
  }
 },
 "nbformat": 4,
 "nbformat_minor": 5
}
