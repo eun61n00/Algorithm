{
 "cells": [
  {
   "cell_type": "markdown",
   "metadata": {},
   "source": [
    "#  BAEKJOON #5397) 키로거"
   ]
  },
  {
   "cell_type": "code",
   "execution_count": 45,
   "metadata": {},
   "outputs": [
    {
     "name": "stdout",
     "output_type": "stream",
     "text": [
      "1\n",
      "<<BP<A>>Cd-\n",
      "BAPC\n"
     ]
    }
   ],
   "source": [
    "test_case = int(input())\n",
    "for _ in range(test_case):\n",
    "    str = input()\n",
    "    password = []\n",
    "    index = 0\n",
    "    check = 0\n",
    "\n",
    "    for char in str:\n",
    "        if char not in ['<', '>', '-']:\n",
    "            password.insert(index, char)\n",
    "            index += 1\n",
    "        else:\n",
    "            if index == 0:\n",
    "                continue\n",
    "            if char == '<':\n",
    "                try:\n",
    "                    check = password[index-1]\n",
    "                    index -= 1\n",
    "                except:\n",
    "                    continue\n",
    "\n",
    "            elif char == '>':\n",
    "                try:\n",
    "                    check = password[index]\n",
    "                    index += 1\n",
    "                except:\n",
    "                    continue\n",
    "            else:\n",
    "                index -= 1\n",
    "                if password[index]:\n",
    "                    del password[index]\n",
    "    print(''.join(password))"
   ]
  },
  {
   "cell_type": "code",
   "execution_count": 7,
   "metadata": {},
   "outputs": [
    {
     "name": "stdout",
     "output_type": "stream",
     "text": [
      "1\n",
      "<<BP<A>>Cd-\n",
      "BAPC\n"
     ]
    }
   ],
   "source": [
    "test_case = int(input())\n",
    "for _ in range(test_case):\n",
    "    stack_left = []\n",
    "    stack_right = []\n",
    "    password = input()\n",
    "    for char in password:\n",
    "        if char == '<':\n",
    "            if len(stack_left) == 0:\n",
    "                continue\n",
    "            stack_right.insert(0, stack_left.pop())\n",
    "        elif char == '>':\n",
    "            if len(stack_right) == 0:\n",
    "                continue\n",
    "            stack_left.append(stack_right.pop(0))\n",
    "        elif char == '-':\n",
    "            stack_left.pop()\n",
    "        else:\n",
    "            stack_left.append(char)\n",
    "    answer = stack_left + stack_right\n",
    "    print(''.join(answer))"
   ]
  },
  {
   "cell_type": "code",
   "execution_count": 3,
   "metadata": {},
   "outputs": [
    {
     "data": {
      "text/plain": [
       "['B', 'A', 'C']"
      ]
     },
     "execution_count": 3,
     "metadata": {},
     "output_type": "execute_result"
    }
   ],
   "source": [
    "stack_left"
   ]
  },
  {
   "cell_type": "code",
   "execution_count": 4,
   "metadata": {},
   "outputs": [
    {
     "data": {
      "text/plain": [
       "['P']"
      ]
     },
     "execution_count": 4,
     "metadata": {},
     "output_type": "execute_result"
    }
   ],
   "source": [
    "stack_right"
   ]
  },
  {
   "cell_type": "code",
   "execution_count": null,
   "metadata": {},
   "outputs": [],
   "source": []
  }
 ],
 "metadata": {
  "kernelspec": {
   "display_name": "Python 3",
   "language": "python",
   "name": "python3"
  },
  "language_info": {
   "codemirror_mode": {
    "name": "ipython",
    "version": 3
   },
   "file_extension": ".py",
   "mimetype": "text/x-python",
   "name": "python",
   "nbconvert_exporter": "python",
   "pygments_lexer": "ipython3",
   "version": "3.8.5"
  }
 },
 "nbformat": 4,
 "nbformat_minor": 4
}
