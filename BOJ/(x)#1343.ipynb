{
 "cells": [
  {
   "cell_type": "code",
   "execution_count": null,
   "id": "under-fellow",
   "metadata": {},
   "outputs": [],
   "source": [
    "board = input()\n",
    "cnt = 0\n",
    "\n",
    "for _ in board:\n",
    "    "
   ]
  }
 ],
 "metadata": {
  "kernelspec": {
   "display_name": "Python 3",
   "language": "python",
   "name": "python3"
  },
  "language_info": {
   "codemirror_mode": {
    "name": "ipython",
    "version": 3
   },
   "file_extension": ".py",
   "mimetype": "text/x-python",
   "name": "python",
   "nbconvert_exporter": "python",
   "pygments_lexer": "ipython3",
   "version": "3.7.3"
  }
 },
 "nbformat": 4,
 "nbformat_minor": 5
}
