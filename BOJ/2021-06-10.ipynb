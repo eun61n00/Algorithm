{
 "cells": [
  {
   "cell_type": "markdown",
   "metadata": {},
   "source": [
    "# 백준 #2798) 블랙잭"
   ]
  },
  {
   "cell_type": "code",
   "execution_count": 6,
   "metadata": {},
   "outputs": [
    {
     "name": "stdout",
     "output_type": "stream",
     "text": [
      "497\n"
     ]
    }
   ],
   "source": [
    "n, m = map(int, input().split())\n",
    "cards = list(map(int, input().split()))\n",
    "sum_list = []\n",
    "answer = 0\n",
    "\n",
    "for i in range(n-2):\n",
    "    for j in range(i+1, n-1):\n",
    "        for k in range(j+1, n):\n",
    "            sum_list.append(cards[i] + cards[j] + cards[k])\n",
    "sum_list.sort()\n",
    "for i in sum_list:\n",
    "    if i > m:\n",
    "        break\n",
    "    answer = i\n",
    "    \n",
    "print(answer)"
   ]
  },
  {
   "cell_type": "markdown",
   "metadata": {},
   "source": [
    "# 백준 #1874) 스택 수열"
   ]
  },
  {
   "cell_type": "code",
   "execution_count": 73,
   "metadata": {},
   "outputs": [],
   "source": [
    "n = 8\n",
    "num_sequence = [4, 3, 6, 8, 7, 5, 2, 1]\n",
    "count = 1\n",
    "index = 0\n",
    "stack_sequence = []\n",
    "ordinary_sequence = []"
   ]
  },
  {
   "cell_type": "code",
   "execution_count": 76,
   "metadata": {},
   "outputs": [
    {
     "name": "stdout",
     "output_type": "stream",
     "text": [
      "+\n"
     ]
    }
   ],
   "source": [
    "while num_sequence != stack_sequence: #정답과 같은 수열을 만들면 반복문 종료\n",
    "    \n",
    "    if num_sequence[index] == count: #만들고 싶은 수열의 숫자가 나오면\n",
    "        ordinary_sequence.pop() #pop\n",
    "        print(\"-\")\n",
    "        stack_sequence.append(count) #pop해서 stack 쌓기\n",
    "        count = ordinary_sequence[-1] #마지막 숫자부터 다시 비교\n",
    "        index += 1 #index 증가\n",
    "        break\n",
    "    ordinary_sequence.append(count) #1부터 차례대로 ordinary_sequence에 push\n",
    "    count += 1 #1부터 차례대로 push\n",
    "    print(\"+\")"
   ]
  },
  {
   "cell_type": "code",
   "execution_count": null,
   "metadata": {},
   "outputs": [],
   "source": [
    "n = int(input())\n",
    "\n",
    "count = 1\n",
    "stack = []\n",
    "result = []\n",
    "\n",
    "for i in range(1, n+1):\n",
    "    data = int(input())\n",
    "    while"
   ]
  }
 ],
 "metadata": {
  "kernelspec": {
   "display_name": "Python 3",
   "language": "python",
   "name": "python3"
  },
  "language_info": {
   "codemirror_mode": {
    "name": "ipython",
    "version": 3
   },
   "file_extension": ".py",
   "mimetype": "text/x-python",
   "name": "python",
   "nbconvert_exporter": "python",
   "pygments_lexer": "ipython3",
   "version": "3.8.5"
  }
 },
 "nbformat": 4,
 "nbformat_minor": 4
}
