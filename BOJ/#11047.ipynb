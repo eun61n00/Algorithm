{
 "cells": [
  {
   "cell_type": "code",
   "execution_count": 36,
   "id": "catholic-romania",
   "metadata": {
    "scrolled": false
   },
   "outputs": [
    {
     "name": "stdout",
     "output_type": "stream",
     "text": [
      "10 4790\n",
      "1\n",
      "5\n",
      "10\n",
      "50\n",
      "100\n",
      "500\n",
      "1000\n",
      "5000\n",
      "10000\n",
      "50000\n",
      "coin:  1000\n",
      "k:  790\n",
      "coin:  500\n",
      "k:  290\n",
      "coin:  100\n",
      "k:  90\n",
      "coin:  50\n",
      "k:  40\n",
      "coin:  10\n",
      "k:  0\n",
      "12\n"
     ]
    }
   ],
   "source": [
    "n, k = map(int, input().split())\n",
    "coins = []\n",
    "cnt = 0\n",
    "\n",
    "for _ in range(n):\n",
    "    coins.append(int(input()))\n",
    "    \n",
    "coins.reverse()\n",
    "\n",
    "\n",
    "for i in range(n):\n",
    "    if k // coins[i] >= 1:\n",
    "        cnt += (k // coins[i])\n",
    "        k %= coins[i]\n",
    "    else:\n",
    "        continue\n",
    "print(cnt)"
   ]
  },
  {
   "cell_type": "code",
   "execution_count": 34,
   "id": "selective-hungary",
   "metadata": {},
   "outputs": [
    {
     "data": {
      "text/plain": [
       "6"
      ]
     },
     "execution_count": 34,
     "metadata": {},
     "output_type": "execute_result"
    }
   ],
   "source": [
    "cnt"
   ]
  },
  {
   "cell_type": "code",
   "execution_count": 30,
   "id": "hispanic-heating",
   "metadata": {},
   "outputs": [
    {
     "data": {
      "text/plain": [
       "0"
      ]
     },
     "execution_count": 30,
     "metadata": {},
     "output_type": "execute_result"
    }
   ],
   "source": [
    "n // coins[3]"
   ]
  },
  {
   "cell_type": "code",
   "execution_count": 26,
   "id": "suspected-duplicate",
   "metadata": {
    "scrolled": true
   },
   "outputs": [
    {
     "data": {
      "text/plain": [
       "[50000, 10000, 5000, 1000, 500, 100, 50, 10, 5, 1]"
      ]
     },
     "execution_count": 26,
     "metadata": {},
     "output_type": "execute_result"
    }
   ],
   "source": [
    "coins"
   ]
  },
  {
   "cell_type": "code",
   "execution_count": 31,
   "id": "satisfactory-ministry",
   "metadata": {},
   "outputs": [
    {
     "data": {
      "text/plain": [
       "4"
      ]
     },
     "execution_count": 31,
     "metadata": {},
     "output_type": "execute_result"
    }
   ],
   "source": [
    "4200 // 1000"
   ]
  },
  {
   "cell_type": "code",
   "execution_count": 32,
   "id": "dietary-frost",
   "metadata": {},
   "outputs": [
    {
     "data": {
      "text/plain": [
       "0"
      ]
     },
     "execution_count": 32,
     "metadata": {},
     "output_type": "execute_result"
    }
   ],
   "source": [
    "n"
   ]
  },
  {
   "cell_type": "code",
   "execution_count": null,
   "id": "fifteen-reply",
   "metadata": {},
   "outputs": [],
   "source": []
  }
 ],
 "metadata": {
  "kernelspec": {
   "display_name": "Python 3",
   "language": "python",
   "name": "python3"
  },
  "language_info": {
   "codemirror_mode": {
    "name": "ipython",
    "version": 3
   },
   "file_extension": ".py",
   "mimetype": "text/x-python",
   "name": "python",
   "nbconvert_exporter": "python",
   "pygments_lexer": "ipython3",
   "version": "3.7.3"
  }
 },
 "nbformat": 4,
 "nbformat_minor": 5
}
