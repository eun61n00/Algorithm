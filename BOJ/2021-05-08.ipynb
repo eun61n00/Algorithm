{
 "cells": [
  {
   "cell_type": "markdown",
   "metadata": {},
   "source": [
    "# #1"
   ]
  },
  {
   "cell_type": "code",
   "execution_count": 1,
   "metadata": {},
   "outputs": [],
   "source": [
    "def is_it_num(char):\n",
    "    num_list = ['0', '1', '2', '3', '4', '5', '6', '7', '8', '9']\n",
    "    \n",
    "    is_it_num = True\n",
    "    if char in num_list:\n",
    "        is_it_num = True\n",
    "    else:\n",
    "        is_it_num = False\n",
    "    return is_it_num\n",
    "\n",
    "def solution(s):\n",
    "    num_list = ['0', '1', '2', '3', '4', '5', '6', '7', '8', '9']\n",
    "    num_string_list = ['zero', 'one', 'two', 'three', 'four', 'five', 'six', 'seven', 'eight', 'nine']\n",
    "    index = 0\n",
    "    to_num = [0 for i in range(len(s))]\n",
    "    num_string = [0 for i in range(len(s))]\n",
    "    temp = ''\n",
    "    find_index = 0\n",
    "    answer = 0\n",
    "    \n",
    "    for char in s:\n",
    "        if is_it_num(char):\n",
    "            to_num[index] = char\n",
    "        else:\n",
    "            temp += char\n",
    "            num_string[index] = char\n",
    "            if temp in num_string_list:\n",
    "                find_index = num_string_list.index(temp)\n",
    "                to_num[index] = num_list[find_index]\n",
    "                temp=''\n",
    "        index += 1\n",
    "    for i in range(len(to_num)):\n",
    "        if 0 in to_num:\n",
    "            to_num.remove(0)\n",
    "    answer = int(\"\".join(to_num))\n",
    "    return answer"
   ]
  },
  {
   "cell_type": "code",
   "execution_count": 2,
   "metadata": {},
   "outputs": [],
   "source": [
    "solution(\"1zerotwozero3\")"
   ]
  },
  {
   "cell_type": "code",
   "execution_count": 3,
   "metadata": {},
   "outputs": [],
   "source": [
    "solution(\"one4seveneight\")"
   ]
  },
  {
   "cell_type": "markdown",
   "metadata": {},
   "source": [
    "# #2"
   ]
  },
  {
   "cell_type": "code",
   "execution_count": null,
   "metadata": {},
   "outputs": [],
   "source": [
    "def solution(places):\n",
    "    answer = []\n",
    "    return answer"
   ]
  },
  {
   "cell_type": "code",
   "execution_count": 38,
   "metadata": {},
   "outputs": [],
   "source": [
    "def solution(places):\n",
    "    answer = []\n",
    "    for i in range(len(places)):\n",
    "        where_is_p = []\n",
    "        for j in range(len(places[i])):\n",
    "            for k in range(len(places[i][i])):\n",
    "                if places[i][j][k]=='P':\n",
    "                    where_is_p.append([j, k])\n",
    "        for position in range(len(where_is_p)):\n",
    "            distance = abs(where_is_p[position][0] - where_is_p[position][0])+ abs(where_is_p[position][1]-where_is_p[position][1])\n",
    "            print (distance)\n",
    "            if distance < 2:\n",
    "                answer.append(0) #또는 0\n",
    "    return where_is_p, answer"
   ]
  },
  {
   "cell_type": "code",
   "execution_count": 39,
   "metadata": {
    "scrolled": true
   },
   "outputs": [
    {
     "name": "stdout",
     "output_type": "stream",
     "text": [
      "0\n",
      "0\n",
      "0\n",
      "0\n",
      "0\n",
      "0\n"
     ]
    },
    {
     "data": {
      "text/plain": [
       "([[0, 0], [0, 4], [2, 1], [2, 3], [4, 0], [4, 4]], [0, 0, 0, 0, 0, 0])"
      ]
     },
     "execution_count": 39,
     "metadata": {},
     "output_type": "execute_result"
    }
   ],
   "source": [
    "solution([[\"POOOP\", \"OXXOX\", \"OPXPX\", \"OOXOX\", \"POXXP\"]])"
   ]
  },
  {
   "cell_type": "code",
   "execution_count": 9,
   "metadata": {},
   "outputs": [],
   "source": [
    "places = [\"POOOP\", \"OXXOX\", \"OPXPX\", \"OOXOX\", \"POXXP\"], [\"POOPX\", \"OXPXP\", \"PXXXO\", \"OXXXO\", \"OOOPP\"], [\"PXOPX\", \"OXOXP\", \"OXPXX\", \"OXXXP\", \"POOXX\"], [\"OOOXX\", \"XOOOX\", \"OOOXX\", \"OXOOX\", \"OOOOO\"], [\"PXPXP\", \"XPXPX\", \"PXPXP\", \"XPXPX\", \"PXPXP\"]"
   ]
  },
  {
   "cell_type": "code",
   "execution_count": 23,
   "metadata": {},
   "outputs": [
    {
     "ename": "NameError",
     "evalue": "name 'answer' is not defined",
     "output_type": "error",
     "traceback": [
      "\u001b[1;31m---------------------------------------------------------------------------\u001b[0m",
      "\u001b[1;31mNameError\u001b[0m                                 Traceback (most recent call last)",
      "\u001b[1;32m<ipython-input-23-b33788c35f07>\u001b[0m in \u001b[0;36m<module>\u001b[1;34m\u001b[0m\n\u001b[1;32m----> 1\u001b[1;33m \u001b[0manswer\u001b[0m\u001b[1;33m\u001b[0m\u001b[1;33m\u001b[0m\u001b[0m\n\u001b[0m",
      "\u001b[1;31mNameError\u001b[0m: name 'answer' is not defined"
     ]
    }
   ],
   "source": [
    "answer"
   ]
  },
  {
   "cell_type": "code",
   "execution_count": null,
   "metadata": {},
   "outputs": [],
   "source": []
  }
 ],
 "metadata": {
  "kernelspec": {
   "display_name": "Python 3",
   "language": "python",
   "name": "python3"
  },
  "language_info": {
   "codemirror_mode": {
    "name": "ipython",
    "version": 3
   },
   "file_extension": ".py",
   "mimetype": "text/x-python",
   "name": "python",
   "nbconvert_exporter": "python",
   "pygments_lexer": "ipython3",
   "version": "3.8.5"
  }
 },
 "nbformat": 4,
 "nbformat_minor": 4
}
