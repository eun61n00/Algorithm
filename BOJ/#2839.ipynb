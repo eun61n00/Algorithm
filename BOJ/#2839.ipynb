{
 "cells": [
  {
   "cell_type": "code",
   "execution_count": 11,
   "id": "minus-syndrome",
   "metadata": {},
   "outputs": [
    {
     "name": "stdout",
     "output_type": "stream",
     "text": [
      "9\n"
     ]
    },
    {
     "ename": "ZeroDivisionError",
     "evalue": "integer division or modulo by zero",
     "output_type": "error",
     "traceback": [
      "\u001b[1;31m---------------------------------------------------------------------------\u001b[0m",
      "\u001b[1;31mZeroDivisionError\u001b[0m                         Traceback (most recent call last)",
      "\u001b[1;32m<ipython-input-11-6ee3964f405c>\u001b[0m in \u001b[0;36m<module>\u001b[1;34m\u001b[0m\n\u001b[0;32m     14\u001b[0m \u001b[1;33m\u001b[0m\u001b[0m\n\u001b[0;32m     15\u001b[0m \u001b[1;32mfor\u001b[0m \u001b[0mshare\u001b[0m \u001b[1;32min\u001b[0m \u001b[0mlist\u001b[0m\u001b[1;33m:\u001b[0m\u001b[1;33m\u001b[0m\u001b[1;33m\u001b[0m\u001b[0m\n\u001b[1;32m---> 16\u001b[1;33m     \u001b[0mshare3\u001b[0m \u001b[1;33m=\u001b[0m \u001b[1;33m(\u001b[0m \u001b[0mn\u001b[0m \u001b[1;33m//\u001b[0m \u001b[0mshare\u001b[0m \u001b[1;33m)\u001b[0m \u001b[1;33m//\u001b[0m\u001b[1;36m3\u001b[0m\u001b[1;33m\u001b[0m\u001b[1;33m\u001b[0m\u001b[0m\n\u001b[0m\u001b[0;32m     17\u001b[0m     \u001b[0mmod\u001b[0m \u001b[1;33m%=\u001b[0m \u001b[1;36m3\u001b[0m\u001b[1;33m\u001b[0m\u001b[1;33m\u001b[0m\u001b[0m\n\u001b[0;32m     18\u001b[0m     \u001b[1;32mif\u001b[0m \u001b[0mmod\u001b[0m \u001b[1;33m==\u001b[0m \u001b[1;36m0\u001b[0m\u001b[1;33m:\u001b[0m\u001b[1;33m\u001b[0m\u001b[1;33m\u001b[0m\u001b[0m\n",
      "\u001b[1;31mZeroDivisionError\u001b[0m: integer division or modulo by zero"
     ]
    }
   ],
   "source": [
    "n = int(input())\n",
    "share5 = n // 5\n",
    "mod = n % 5\n",
    "list = []\n",
    "\n",
    "for i in range(share+1):\n",
    "    list.append(i)\n",
    "list.sort()\n",
    "list.reverse()\n",
    "\n",
    "if mod == 0:\n",
    "    print(share)\n",
    "    exit()\n",
    "    \n",
    "for share in list:\n",
    "    share3 = ( n // share ) //3\n",
    "    mod %= 3\n",
    "    if mod == 0:\n",
    "        print(\"answer: \", share5 + share3)\n",
    "        break\n",
    "\n",
    "print(-1)"
   ]
  },
  {
   "cell_type": "code",
   "execution_count": 5,
   "id": "latin-sellers",
   "metadata": {},
   "outputs": [
    {
     "name": "stdout",
     "output_type": "stream",
     "text": [
      "9\n",
      "answer:  1\n"
     ]
    }
   ],
   "source": [
    "n = int(input())\n",
    "cnt = 0\n",
    "share5 = n // 5\n",
    "\n",
    "while share5 >= 0:\n",
    "    if share5 == 0:\n",
    "        mod = n\n",
    "        \n",
    "    mod = n % share5\n",
    "    share3 = share5 // 3\n",
    "    mod = share3 % 3\n",
    "\n",
    "    if mod == 0:\n",
    "        print('answer: ', share5 + share3)\n",
    "        break\n",
    "    share5 -= 1\n",
    "\n",
    "if share5 < 0:\n",
    "    print(-1)"
   ]
  },
  {
   "cell_type": "code",
   "execution_count": 6,
   "id": "known-forwarding",
   "metadata": {},
   "outputs": [
    {
     "name": "stdout",
     "output_type": "stream",
     "text": [
      "9\n",
      "-1\n"
     ]
    }
   ],
   "source": [
    "n = int(input())\n",
    "result = 0\n",
    "\n",
    "while True:\n",
    "    if n % 5 == 0:\n",
    "        result += (n // 5)\n",
    "        print(result)\n",
    "        break\n",
    "        \n",
    "    n -= 3\n",
    "    result += 1\n",
    "    \n",
    "    if n < 3:\n",
    "        print(-1)\n",
    "        break"
   ]
  },
  {
   "cell_type": "code",
   "execution_count": null,
   "id": "regulated-decision",
   "metadata": {},
   "outputs": [],
   "source": [
    "N = int(input()) \n",
    "\n",
    "result = 0 \n",
    "\n",
    "while True : \n",
    "    if N % 5 == 0 : \n",
    "        result += (N // 5) \n",
    "        print(result) \n",
    "        break\n",
    "    \n",
    "    N -= 3 \n",
    "    result += 1 \n",
    "    \n",
    "    if N < 3 : \n",
    "        print(-1)\n",
    "        break"
   ]
  },
  {
   "cell_type": "code",
   "execution_count": 7,
   "id": "unauthorized-radiation",
   "metadata": {},
   "outputs": [
    {
     "name": "stdout",
     "output_type": "stream",
     "text": [
      "9\n",
      "3\n"
     ]
    }
   ],
   "source": [
    "n = int(input())\n",
    "result = 0\n",
    "\n",
    "while True:\n",
    "    if n % 5 == 0:\n",
    "        result += (n // 5)\n",
    "        print(result)\n",
    "        break\n",
    "        \n",
    "    n -= 3\n",
    "    result += 1\n",
    "    \n",
    "    if n < 0:\n",
    "        print(-1)\n",
    "        break"
   ]
  },
  {
   "cell_type": "code",
   "execution_count": 8,
   "id": "expanded-amino",
   "metadata": {},
   "outputs": [
    {
     "name": "stdout",
     "output_type": "stream",
     "text": [
      "18\n",
      "4\n"
     ]
    }
   ],
   "source": [
    "n = int(input())\n",
    "result = 0\n",
    "\n",
    "mod = n % 5\n",
    "result += n // 5\n",
    "\n",
    "while True:\n",
    "    if mod % 3 == 0:\n",
    "        result += (mod // 3)\n",
    "        print(result)\n",
    "        break\n",
    "        \n",
    "    n -= 5\n",
    "    result += 1\n",
    "    \n",
    "    if n < 0:\n",
    "        print(-1)\n",
    "        break"
   ]
  },
  {
   "cell_type": "code",
   "execution_count": null,
   "id": "removed-status",
   "metadata": {},
   "outputs": [],
   "source": []
  }
 ],
 "metadata": {
  "kernelspec": {
   "display_name": "Python 3",
   "language": "python",
   "name": "python3"
  },
  "language_info": {
   "codemirror_mode": {
    "name": "ipython",
    "version": 3
   },
   "file_extension": ".py",
   "mimetype": "text/x-python",
   "name": "python",
   "nbconvert_exporter": "python",
   "pygments_lexer": "ipython3",
   "version": "3.7.3"
  }
 },
 "nbformat": 4,
 "nbformat_minor": 5
}
