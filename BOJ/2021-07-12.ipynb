{
 "cells": [
  {
   "cell_type": "markdown",
   "id": "54408a53",
   "metadata": {},
   "source": [
    "# BOJ #2775) 부녀회장이 될테야"
   ]
  },
  {
   "cell_type": "code",
   "execution_count": null,
   "id": "ef23ac78",
   "metadata": {},
   "outputs": [],
   "source": [
    "for _ in range(int(input())):\n",
    "    floor = int(input())\n",
    "    room = int(input())\n",
    "    answer = 0\n",
    "    for i in range(room):\n",
    "        for j in range(i):\n",
    "            for k in range()\n",
    "            "
   ]
  },
  {
   "cell_type": "markdown",
   "id": "31c41b13",
   "metadata": {},
   "source": [
    "# BOJ #9020 골드바흐의 추측"
   ]
  },
  {
   "cell_type": "code",
   "execution_count": 5,
   "id": "72b40e36",
   "metadata": {},
   "outputs": [
    {
     "name": "stdout",
     "output_type": "stream",
     "text": [
      "1\n",
      "8\n"
     ]
    },
    {
     "ename": "KeyboardInterrupt",
     "evalue": "",
     "output_type": "error",
     "traceback": [
      "\u001b[1;31m---------------------------------------------------------------------------\u001b[0m",
      "\u001b[1;31mKeyboardInterrupt\u001b[0m                         Traceback (most recent call last)",
      "\u001b[1;32m<ipython-input-5-c2fd3c10a5f1>\u001b[0m in \u001b[0;36m<module>\u001b[1;34m\u001b[0m\n\u001b[0;32m     10\u001b[0m         \u001b[1;32mif\u001b[0m \u001b[0mis_prime\u001b[0m \u001b[1;33m==\u001b[0m \u001b[1;32mTrue\u001b[0m\u001b[1;33m:\u001b[0m\u001b[1;33m\u001b[0m\u001b[1;33m\u001b[0m\u001b[0m\n\u001b[0;32m     11\u001b[0m             \u001b[1;32mbreak\u001b[0m\u001b[1;33m\u001b[0m\u001b[1;33m\u001b[0m\u001b[0m\n\u001b[1;32m---> 12\u001b[1;33m         \u001b[0mtest_num\u001b[0m \u001b[1;33m-=\u001b[0m \u001b[1;36m1\u001b[0m\u001b[1;33m\u001b[0m\u001b[1;33m\u001b[0m\u001b[0m\n\u001b[0m\u001b[0;32m     13\u001b[0m     \u001b[1;32mfor\u001b[0m \u001b[0mi\u001b[0m \u001b[1;32min\u001b[0m \u001b[0mrange\u001b[0m\u001b[1;33m(\u001b[0m\u001b[1;36m2\u001b[0m\u001b[1;33m,\u001b[0m \u001b[0mnum\u001b[0m\u001b[1;33m-\u001b[0m\u001b[0mtest_num\u001b[0m\u001b[1;33m)\u001b[0m\u001b[1;33m:\u001b[0m\u001b[1;33m\u001b[0m\u001b[1;33m\u001b[0m\u001b[0m\n\u001b[0;32m     14\u001b[0m         \u001b[1;32mif\u001b[0m \u001b[1;33m(\u001b[0m\u001b[0mnum\u001b[0m\u001b[1;33m-\u001b[0m\u001b[0mtest_num\u001b[0m\u001b[1;33m)\u001b[0m \u001b[1;33m%\u001b[0m \u001b[0mi\u001b[0m \u001b[1;33m==\u001b[0m \u001b[1;36m0\u001b[0m\u001b[1;33m:\u001b[0m\u001b[1;33m\u001b[0m\u001b[1;33m\u001b[0m\u001b[0m\n",
      "\u001b[1;31mKeyboardInterrupt\u001b[0m: "
     ]
    }
   ],
   "source": [
    "for _ in range(int(input())):\n",
    "    num = int(input())\n",
    "    is_prime = False\n",
    "    test_num = num // 2\n",
    "    while True:\n",
    "        for i in range(2, test_num):\n",
    "            if test_num % i == 0:\n",
    "                is_prime = False\n",
    "                break\n",
    "        if is_prime == True:\n",
    "            break\n",
    "        test_num -= 1\n",
    "    for i in range(2, num-test_num):\n",
    "        if (num-test_num) % i == 0:\n",
    "            if_prime = False\n",
    "            break\n",
    "    if is_prime == True:\n",
    "        print(test_num, num-test_num, seq=\" \")"
   ]
  },
  {
   "cell_type": "markdown",
   "id": "6da4cd0b",
   "metadata": {},
   "source": [
    "아 나 진짜 개못한다,,,,,,,,,\n",
    "\n",
    "퓨ㅠㅠㅠㅠㅠㅠㅠㅠㅠㅠㅠㅠㅠㅠㅠㅠㅠㅠㅠㅠㅠㅠㅠㅠㅠㅠㅠㅠㅠㅠㅠㅠㅠㅠㅠㅠㅠㅠ"
   ]
  },
  {
   "cell_type": "code",
   "execution_count": null,
   "id": "ff612656",
   "metadata": {},
   "outputs": [],
   "source": []
  }
 ],
 "metadata": {
  "kernelspec": {
   "display_name": "Python 3",
   "language": "python",
   "name": "python3"
  },
  "language_info": {
   "codemirror_mode": {
    "name": "ipython",
    "version": 3
   },
   "file_extension": ".py",
   "mimetype": "text/x-python",
   "name": "python",
   "nbconvert_exporter": "python",
   "pygments_lexer": "ipython3",
   "version": "3.8.8"
  }
 },
 "nbformat": 4,
 "nbformat_minor": 5
}
