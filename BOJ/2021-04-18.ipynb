{
 "cells": [
  {
   "cell_type": "markdown",
   "metadata": {},
   "source": [
    "# 프로그래머스 # 두개 뽑아서 더하기"
   ]
  },
  {
   "cell_type": "code",
   "execution_count": 14,
   "metadata": {},
   "outputs": [],
   "source": [
    "def solution(numbers):\n",
    "    answer = []\n",
    "    for index in range(len(numbers)):\n",
    "        for index2 in range(index+1, len(numbers)):\n",
    "            answer.append(numbers[index]+numbers[index2])\n",
    "    answer.sort()\n",
    "    answer = set(answer)\n",
    "    answer = list(answer)\n",
    "    return answer"
   ]
  },
  {
   "cell_type": "code",
   "execution_count": 15,
   "metadata": {},
   "outputs": [
    {
     "data": {
      "text/plain": [
       "[2, 5, 7, 9, 12]"
      ]
     },
     "execution_count": 15,
     "metadata": {},
     "output_type": "execute_result"
    }
   ],
   "source": [
    "solution([5, 0, 2, 7])"
   ]
  },
  {
   "cell_type": "markdown",
   "metadata": {},
   "source": [
    "# 백준 #1100) 하얀 칸"
   ]
  },
  {
   "cell_type": "code",
   "execution_count": 1,
   "metadata": {},
   "outputs": [
    {
     "name": "stdout",
     "output_type": "stream",
     "text": [
      "f...ffff\n",
      "f...ffff\n",
      "f...ffff\n",
      "f...ffff\n",
      "f...ffff\n",
      "f...ffff\n",
      "f...ffff\n",
      "f...ffff\n",
      "0\n"
     ]
    }
   ],
   "source": [
    "count = 0\n",
    "for row in range(8):\n",
    "    chess = input()\n",
    "    if row % 2 == 0:\n",
    "        for column in range(0, 8, 2):\n",
    "            if chess[column] == \"F\":\n",
    "                count +=1\n",
    "    else:\n",
    "        for column in range(1, 8, 2):\n",
    "            if chess[column] == \"F\":\n",
    "                count += 1\n",
    "print(count)"
   ]
  },
  {
   "cell_type": "code",
   "execution_count": null,
   "metadata": {},
   "outputs": [],
   "source": []
  }
 ],
 "metadata": {
  "kernelspec": {
   "display_name": "Python 3",
   "language": "python",
   "name": "python3"
  },
  "language_info": {
   "codemirror_mode": {
    "name": "ipython",
    "version": 3
   },
   "file_extension": ".py",
   "mimetype": "text/x-python",
   "name": "python",
   "nbconvert_exporter": "python",
   "pygments_lexer": "ipython3",
   "version": "3.8.5"
  }
 },
 "nbformat": 4,
 "nbformat_minor": 4
}
