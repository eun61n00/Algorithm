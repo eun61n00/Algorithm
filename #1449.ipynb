{
 "cells": [
  {
   "cell_type": "code",
   "execution_count": 22,
   "id": "thick-personal",
   "metadata": {},
   "outputs": [
    {
     "name": "stdout",
     "output_type": "stream",
     "text": [
      "5 2\n",
      "4 5 6 7 8\n",
      "3\n"
     ]
    }
   ],
   "source": [
    "n, l = map(int, input().split())\n",
    "loc = list(map(int, input().split()))\n",
    "loc.sort()\n",
    "cnt = 1\n",
    "tmp = loc[0]\n",
    "\n",
    "for i in range(n-1):\n",
    "    if loc[i+1] <= tmp+l-1:\n",
    "        continue\n",
    "    else:\n",
    "        cnt += 1\n",
    "        tmp=loc[i+1]\n",
    "print(cnt)"
   ]
  },
  {
   "cell_type": "code",
   "execution_count": 18,
   "id": "desperate-vancouver",
   "metadata": {},
   "outputs": [
    {
     "data": {
      "text/plain": [
       "[2, 3, 4, 5, 80, 83, 160, 168, 199, 359]"
      ]
     },
     "execution_count": 18,
     "metadata": {},
     "output_type": "execute_result"
    }
   ],
   "source": [
    "loc"
   ]
  },
  {
   "cell_type": "code",
   "execution_count": 3,
   "id": "casual-trash",
   "metadata": {},
   "outputs": [],
   "source": [
    "loc.sort()"
   ]
  },
  {
   "cell_type": "code",
   "execution_count": 4,
   "id": "injured-lender",
   "metadata": {},
   "outputs": [
    {
     "data": {
      "text/plain": [
       "[1, 2, 100, 101]"
      ]
     },
     "execution_count": 4,
     "metadata": {},
     "output_type": "execute_result"
    }
   ],
   "source": [
    "loc"
   ]
  },
  {
   "cell_type": "code",
   "execution_count": null,
   "id": "prompt-arbor",
   "metadata": {},
   "outputs": [],
   "source": []
  }
 ],
 "metadata": {
  "kernelspec": {
   "display_name": "Python 3",
   "language": "python",
   "name": "python3"
  },
  "language_info": {
   "codemirror_mode": {
    "name": "ipython",
    "version": 3
   },
   "file_extension": ".py",
   "mimetype": "text/x-python",
   "name": "python",
   "nbconvert_exporter": "python",
   "pygments_lexer": "ipython3",
   "version": "3.7.3"
  }
 },
 "nbformat": 4,
 "nbformat_minor": 5
}
