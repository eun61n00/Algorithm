{
 "cells": [
  {
   "cell_type": "code",
   "execution_count": null,
   "id": "patient-injury",
   "metadata": {},
   "outputs": [],
   "source": [
    "day = ['MON', 'TUE', 'WED', 'THU', 'FRI', 'SAT' ,'SUN']\n",
    "month = [31, 28, 31, 30, 31, 30, 31, 31, 30, 31, 30, 31]\n",
    "\n",
    "x, y = map(int, input().split())"
   ]
  }
 ],
 "metadata": {
  "kernelspec": {
   "display_name": "Python 3",
   "language": "python",
   "name": "python3"
  },
  "language_info": {
   "codemirror_mode": {
    "name": "ipython",
    "version": 3
   },
   "file_extension": ".py",
   "mimetype": "text/x-python",
   "name": "python",
   "nbconvert_exporter": "python",
   "pygments_lexer": "ipython3",
   "version": "3.7.3"
  }
 },
 "nbformat": 4,
 "nbformat_minor": 5
}
