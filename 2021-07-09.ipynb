{
 "cells": [
  {
   "cell_type": "markdown",
   "id": "ac6dcecd",
   "metadata": {},
   "source": [
    "# BAEKJOON #10757) 큰 수 A+B"
   ]
  },
  {
   "cell_type": "code",
   "execution_count": 2,
   "id": "8c4a2e8f",
   "metadata": {},
   "outputs": [
    {
     "name": "stdout",
     "output_type": "stream",
     "text": [
      "3822829 4930202\n",
      "8753031\n"
     ]
    }
   ],
   "source": [
    "a, b = map(int, input().split())\n",
    "print(a + b)"
   ]
  },
  {
   "cell_type": "code",
   "execution_count": 1,
   "id": "1f3534cb",
   "metadata": {},
   "outputs": [
    {
     "name": "stdout",
     "output_type": "stream",
     "text": [
      "103 19\n",
      "122\n"
     ]
    }
   ],
   "source": [
    "a, b = map(str, input().split())\n",
    "length = max(len(a), len(b))\n",
    "a = a.zfill(length)\n",
    "b = b.zfill(length)\n",
    "\n",
    "result = [0] * (length+1)\n",
    "\n",
    "for idx in range(length-1, -1, -1):\n",
    "    bigger_than_ten = False\n",
    "    tmp = list(str(int(a[idx]) + int(b[idx]) + result[idx+1]))\n",
    "    if len(tmp) > 1:\n",
    "        bigger_than_ten = True\n",
    "        result[idx+1] = int(tmp[1])\n",
    "        result[idx] = 1\n",
    "    else:\n",
    "        result[idx+1] = int(tmp[0])\n",
    "if result[0] == 0:\n",
    "    result.pop(0)\n",
    "print(*result, sep = \"\")"
   ]
  },
  {
   "cell_type": "markdown",
   "id": "22a74bb2",
   "metadata": {},
   "source": [
    "#10870) 피보나치"
   ]
  },
  {
   "cell_type": "code",
   "execution_count": 3,
   "id": "5360581f",
   "metadata": {
    "scrolled": false
   },
   "outputs": [
    {
     "name": "stdout",
     "output_type": "stream",
     "text": [
      "17\n",
      "1597\n"
     ]
    }
   ],
   "source": [
    "n = int(input())\n",
    "list = [0, 1]\n",
    "for i in range(n):\n",
    "    list.append(list[i] + list[i+1])\n",
    "print(list[n])"
   ]
  },
  {
   "cell_type": "markdown",
   "id": "570f3889",
   "metadata": {},
   "source": []
  }
 ],
 "metadata": {
  "kernelspec": {
   "display_name": "Python 3",
   "language": "python",
   "name": "python3"
  },
  "language_info": {
   "codemirror_mode": {
    "name": "ipython",
    "version": 3
   },
   "file_extension": ".py",
   "mimetype": "text/x-python",
   "name": "python",
   "nbconvert_exporter": "python",
   "pygments_lexer": "ipython3",
   "version": "3.8.8"
  }
 },
 "nbformat": 4,
 "nbformat_minor": 5
}
