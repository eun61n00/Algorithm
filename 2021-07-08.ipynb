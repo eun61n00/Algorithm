{
 "cells": [
  {
   "cell_type": "markdown",
   "id": "e4967e39",
   "metadata": {},
   "source": [
    "# BAEKJOON #10872) 팩토리얼"
   ]
  },
  {
   "cell_type": "code",
   "execution_count": 4,
   "id": "8edf1ed7",
   "metadata": {},
   "outputs": [
    {
     "name": "stdout",
     "output_type": "stream",
     "text": [
      "6\n",
      "720\n"
     ]
    }
   ],
   "source": [
    "n = int(input())\n",
    "result = 1\n",
    "\n",
    "for i in range(1, n+1):\n",
    "    result *= i\n",
    "\n",
    "print(result)"
   ]
  },
  {
   "cell_type": "markdown",
   "id": "5bc0995b",
   "metadata": {},
   "source": [
    "# BAEKJOON #1929) 소수 구하기"
   ]
  },
  {
   "cell_type": "code",
   "execution_count": 68,
   "id": "e9757a36",
   "metadata": {},
   "outputs": [
    {
     "name": "stdout",
     "output_type": "stream",
     "text": [
      "3 16\n",
      "3\n",
      "5\n",
      "7\n",
      "11\n",
      "13\n"
     ]
    }
   ],
   "source": [
    "m, n = map(int, input().split())\n",
    "\n",
    "for i in range(m, n+1):\n",
    "    is_prime = True\n",
    "    for j in range(2, i):\n",
    "        if i % j == 0:\n",
    "            is_prime = False\n",
    "            break\n",
    "    if is_prime:\n",
    "        print(i)"
   ]
  },
  {
   "cell_type": "code",
   "execution_count": 82,
   "id": "0f5a207a",
   "metadata": {
    "scrolled": true
   },
   "outputs": [
    {
     "name": "stdout",
     "output_type": "stream",
     "text": [
      "9223372036854775807 9223372036854775808\n"
     ]
    }
   ],
   "source": [
    "n, m = map(str, input().split())"
   ]
  },
  {
   "cell_type": "code",
   "execution_count": 89,
   "id": "5fb876aa",
   "metadata": {
    "scrolled": true
   },
   "outputs": [
    {
     "data": {
      "text/plain": [
       "['9',\n",
       " '2',\n",
       " '2',\n",
       " '3',\n",
       " '3',\n",
       " '7',\n",
       " '2',\n",
       " '0',\n",
       " '3',\n",
       " '6',\n",
       " '8',\n",
       " '5',\n",
       " '4',\n",
       " '7',\n",
       " '7',\n",
       " '5',\n",
       " '8',\n",
       " '0',\n",
       " '8']"
      ]
     },
     "execution_count": 89,
     "metadata": {},
     "output_type": "execute_result"
    }
   ],
   "source": [
    "n_list = []\n",
    "n_list[:0] = n\n",
    "n_list\n",
    "\n",
    "m_list = []\n",
    "m_list[:0] = m\n",
    "m_list"
   ]
  },
  {
   "cell_type": "code",
   "execution_count": null,
   "id": "d078ca6b",
   "metadata": {},
   "outputs": [],
   "source": []
  },
  {
   "cell_type": "code",
   "execution_count": 91,
   "id": "981d0078",
   "metadata": {},
   "outputs": [
    {
     "name": "stdout",
     "output_type": "stream",
     "text": [
      "7\n",
      "0\n",
      "8\n",
      "5\n",
      "7\n",
      "7\n",
      "4\n",
      "5\n",
      "8\n",
      "6\n",
      "3\n",
      "0\n",
      "2\n",
      "7\n",
      "3\n",
      "3\n",
      "2\n",
      "2\n",
      "9\n"
     ]
    }
   ],
   "source": [
    "for i in n_list[::-1]:\n",
    "    print(i)"
   ]
  },
  {
   "cell_type": "code",
   "execution_count": null,
   "id": "2fa384a0",
   "metadata": {},
   "outputs": [],
   "source": []
  }
 ],
 "metadata": {
  "kernelspec": {
   "display_name": "Python 3",
   "language": "python",
   "name": "python3"
  },
  "language_info": {
   "codemirror_mode": {
    "name": "ipython",
    "version": 3
   },
   "file_extension": ".py",
   "mimetype": "text/x-python",
   "name": "python",
   "nbconvert_exporter": "python",
   "pygments_lexer": "ipython3",
   "version": "3.8.8"
  }
 },
 "nbformat": 4,
 "nbformat_minor": 5
}
