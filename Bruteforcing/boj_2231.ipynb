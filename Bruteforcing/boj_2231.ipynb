{
 "cells": [
  {
   "cell_type": "code",
   "execution_count": 9,
   "id": "flying-little",
   "metadata": {},
   "outputs": [],
   "source": [
    "#n = int(input())\n",
    "\n",
    "n = 245\n",
    "\n",
    "digit = 1\n",
    "\n",
    "while True:\n",
    "    for i in range(digit+1):\n",
    "        globals()['val_{}.format(i + 1)'] = 0\n",
    "        digit ** 10\n",
    "\n",
    "a = n / 2\n",
    "if a "
   ]
  },
  {
   "cell_type": "markdown",
   "id": "funny-insulin",
   "metadata": {},
   "source": [
    "- 한자리 생성자이면 분해합은 a + a\n",
    "\n",
    "- 두자리 생성자이면 분해합은 10a + b + a + b\n",
    "\n",
    "- 세자리 생성자이면 분해합은 100a + 10b + c + a + b + c"
   ]
  },
  {
   "cell_type": "markdown",
   "id": "falling-closer",
   "metadata": {},
   "source": [
    "---"
   ]
  },
  {
   "cell_type": "code",
   "execution_count": 2,
   "id": "surrounded-gospel",
   "metadata": {},
   "outputs": [
    {
     "name": "stdout",
     "output_type": "stream",
     "text": [
      "216\n",
      "198\n"
     ]
    }
   ],
   "source": [
    "n = int(input())\n",
    "result = 0\n",
    "\n",
    "for i in range(1, n + 1):\n",
    "    a = list(map(int, str(i)))\n",
    "    s = i + sum(a)\n",
    "    if (s == n):\n",
    "        result = i\n",
    "        break\n",
    "        \n",
    "print(result)"
   ]
  },
  {
   "cell_type": "code",
   "execution_count": null,
   "id": "agricultural-installation",
   "metadata": {},
   "outputs": [],
   "source": []
  }
 ],
 "metadata": {
  "kernelspec": {
   "display_name": "Python 3",
   "language": "python",
   "name": "python3"
  },
  "language_info": {
   "codemirror_mode": {
    "name": "ipython",
    "version": 3
   },
   "file_extension": ".py",
   "mimetype": "text/x-python",
   "name": "python",
   "nbconvert_exporter": "python",
   "pygments_lexer": "ipython3",
   "version": "3.7.3"
  }
 },
 "nbformat": 4,
 "nbformat_minor": 5
}
