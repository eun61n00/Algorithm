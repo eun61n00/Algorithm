{
 "cells": [
  {
   "cell_type": "code",
   "execution_count": 46,
   "id": "ambient-spokesman",
   "metadata": {
    "scrolled": true
   },
   "outputs": [
    {
     "name": "stdout",
     "output_type": "stream",
     "text": [
      "00000\n",
      "0\n"
     ]
    }
   ],
   "source": [
    "s = list(input())\n",
    "cnt0 = 0\n",
    "cnt1 = 0\n",
    "\n",
    "for i in range(len(s)-1):\n",
    "    if s[i] != s[i+1]:\n",
    "        if s[i]=='0':\n",
    "            cnt1 += 1\n",
    "        else:\n",
    "            cnt0 += 1\n",
    "    else:\n",
    "        continue\n",
    "\n",
    "if cnt0 == 0 and cnt1 != 0:\n",
    "    cnt0 += 1\n",
    "elif cnt0 != 0 and cnt1 == 0:\n",
    "    cnt1 +=1\n",
    "\n",
    "print(min(cnt0, cnt1))"
   ]
  },
  {
   "cell_type": "code",
   "execution_count": 27,
   "id": "invisible-pakistan",
   "metadata": {},
   "outputs": [],
   "source": [
    "from sys import stdin"
   ]
  },
  {
   "cell_type": "code",
   "execution_count": 39,
   "id": "chronic-reviewer",
   "metadata": {},
   "outputs": [
    {
     "name": "stdout",
     "output_type": "stream",
     "text": [
      "000111\n",
      "1\n"
     ]
    }
   ],
   "source": [
    "s, change = input(), 0\n",
    "for i in range(1, len(s)):\n",
    "    if s[i] != s[i-1]:\n",
    "        change += 1\n",
    "        \n",
    "print((change+1) // 2)"
   ]
  },
  {
   "cell_type": "code",
   "execution_count": 43,
   "id": "following-curtis",
   "metadata": {},
   "outputs": [
    {
     "name": "stdout",
     "output_type": "stream",
     "text": [
      "0000\n",
      "0\n"
     ]
    }
   ],
   "source": [
    "s = input()\n",
    "l = len(s)\n",
    "\n",
    "temp = s[0]\n",
    "zero = one = 0\n",
    "\n",
    "if s[0] == '0':\n",
    "    zero += 1\n",
    "else:\n",
    "    one += 1\n",
    "    \n",
    "for i in range(l):\n",
    "    if s[i] != temp:\n",
    "        if temp == '0':\n",
    "            one += 1\n",
    "        else:\n",
    "            zero += 1\n",
    "            temp = s[i]\n",
    "        temp = s[i]\n",
    "        \n",
    "print(min(zero, one))"
   ]
  },
  {
   "cell_type": "code",
   "execution_count": 44,
   "id": "concerned-default",
   "metadata": {},
   "outputs": [
    {
     "data": {
      "text/plain": [
       "(1, 0)"
      ]
     },
     "execution_count": 44,
     "metadata": {},
     "output_type": "execute_result"
    }
   ],
   "source": [
    "zero, one"
   ]
  },
  {
   "cell_type": "code",
   "execution_count": 45,
   "id": "deadly-academy",
   "metadata": {},
   "outputs": [
    {
     "data": {
      "text/plain": [
       "0"
      ]
     },
     "execution_count": 45,
     "metadata": {},
     "output_type": "execute_result"
    }
   ],
   "source": [
    "min(zero, one)"
   ]
  },
  {
   "cell_type": "code",
   "execution_count": 50,
   "id": "tested-creation",
   "metadata": {},
   "outputs": [
    {
     "name": "stdout",
     "output_type": "stream",
     "text": [
      "1100\n",
      "1\n"
     ]
    }
   ],
   "source": [
    "s = list(input())\n",
    "cnt0 = 0\n",
    "cnt1 = 0\n",
    "\n",
    "if s[0] == '0':\n",
    "    cnt0 += 1\n",
    "else:\n",
    "    cnt1 += 1\n",
    "\n",
    "for i in range(len(s)-1):\n",
    "    if s[i] != s[i+1]:\n",
    "        if s[i]=='0':\n",
    "            cnt1 += 1\n",
    "        else:\n",
    "            cnt0 += 1\n",
    "    else:\n",
    "        continue\n",
    "        \n",
    "print(min(cnt0, cnt1))"
   ]
  },
  {
   "cell_type": "code",
   "execution_count": null,
   "id": "tough-symphony",
   "metadata": {},
   "outputs": [],
   "source": []
  }
 ],
 "metadata": {
  "kernelspec": {
   "display_name": "Python 3",
   "language": "python",
   "name": "python3"
  },
  "language_info": {
   "codemirror_mode": {
    "name": "ipython",
    "version": 3
   },
   "file_extension": ".py",
   "mimetype": "text/x-python",
   "name": "python",
   "nbconvert_exporter": "python",
   "pygments_lexer": "ipython3",
   "version": "3.7.3"
  }
 },
 "nbformat": 4,
 "nbformat_minor": 5
}
