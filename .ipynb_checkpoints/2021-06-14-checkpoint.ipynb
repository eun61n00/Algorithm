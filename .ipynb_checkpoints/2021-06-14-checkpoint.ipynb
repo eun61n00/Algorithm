{
 "cells": [
  {
   "cell_type": "markdown",
   "metadata": {},
   "source": [
    "#  BAEKJOON #5397) 키로거"
   ]
  },
  {
   "cell_type": "code",
   "execution_count": null,
   "metadata": {},
   "outputs": [],
   "source": [
    "text_case = int(input())\n",
    "for _ in range(text_case):\n",
    "    str = input()\n",
    "    password = []\n",
    "    index = 0\n",
    "    check = 0\n",
    "\n",
    "    for char in str:\n",
    "        if char not in ['<', '>', '-']:\n",
    "            password.insert(index, char)\n",
    "            index += 1\n",
    "        else:\n",
    "            if index == 0:\n",
    "                continue\n",
    "            if char == '<':\n",
    "                try:\n",
    "                    check = password[index-1]\n",
    "                    index -= 1\n",
    "                except:\n",
    "                    continue\n",
    "\n",
    "            elif char == '>':\n",
    "                try:\n",
    "                    check = password[index]\n",
    "                    index += 1\n",
    "                except:\n",
    "                    continue\n",
    "            else:\n",
    "                index -= 1\n",
    "                if password[index]:\n",
    "                    del password[index]\n",
    "print(password)"
   ]
  },
  {
   "cell_type": "code",
   "execution_count": null,
   "metadata": {},
   "outputs": [],
   "source": []
  }
 ],
 "metadata": {
  "kernelspec": {
   "display_name": "Python 3",
   "language": "python",
   "name": "python3"
  },
  "language_info": {
   "codemirror_mode": {
    "name": "ipython",
    "version": 3
   },
   "file_extension": ".py",
   "mimetype": "text/x-python",
   "name": "python",
   "nbconvert_exporter": "python",
   "pygments_lexer": "ipython3",
   "version": "3.8.5"
  }
 },
 "nbformat": 4,
 "nbformat_minor": 4
}
