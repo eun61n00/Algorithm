{
 "cells": [
  {
   "cell_type": "markdown",
   "id": "32972a54",
   "metadata": {},
   "source": [
    "# BOJ #10250) ACM호텔"
   ]
  },
  {
   "cell_type": "code",
   "execution_count": 1,
   "id": "e49e722a",
   "metadata": {},
   "outputs": [
    {
     "name": "stdout",
     "output_type": "stream",
     "text": [
      "1\n",
      "6 12 72\n",
      "612\n"
     ]
    }
   ],
   "source": [
    "for t in range(int(input())):\n",
    "    h, w, n = map(int, input().split())\n",
    "    floor = n % h\n",
    "    if floor == 0:\n",
    "        floor = h\n",
    "        room = n // h\n",
    "        room = str(room).zfill(2)\n",
    "        print(floor, room, sep='')\n",
    "    else:\n",
    "        room = n // h + 1\n",
    "        room = str(room).zfill(2)\n",
    "        print(floor, room, sep='')"
   ]
  },
  {
   "cell_type": "markdown",
   "id": "b9a9713c",
   "metadata": {},
   "source": [
    "# BOJ #2775) "
   ]
  },
  {
   "cell_type": "code",
   "execution_count": 19,
   "id": "546c69c9",
   "metadata": {},
   "outputs": [
    {
     "name": "stdout",
     "output_type": "stream",
     "text": [
      "1\n",
      "2\n",
      "4\n",
      "i  0\n",
      "j  0\n",
      "j  1\n",
      "k  1\n",
      "j  2\n",
      "k  1\n",
      "k  2\n",
      "j  3\n",
      "k  1\n",
      "k  2\n",
      "k  3\n",
      "i  1\n",
      "j  0\n",
      "j  1\n",
      "k  1\n",
      "j  2\n",
      "k  1\n",
      "k  2\n",
      "j  3\n",
      "k  1\n",
      "k  2\n",
      "k  3\n",
      "i  2\n",
      "j  0\n",
      "j  1\n",
      "k  1\n",
      "j  2\n",
      "k  1\n",
      "k  2\n",
      "j  3\n",
      "k  1\n",
      "k  2\n",
      "k  3\n",
      "i  3\n",
      "j  0\n",
      "j  1\n",
      "k  1\n",
      "j  2\n",
      "k  1\n",
      "k  2\n",
      "j  3\n",
      "k  1\n",
      "k  2\n",
      "k  3\n",
      "i  4\n",
      "j  0\n",
      "j  1\n",
      "k  1\n",
      "j  2\n",
      "k  1\n",
      "k  2\n",
      "j  3\n",
      "k  1\n",
      "k  2\n",
      "k  3\n",
      "50\n"
     ]
    }
   ],
   "source": [
    "for _ in range(int(input())):\n",
    "    floor = int(input())\n",
    "    room = int(input())\n",
    "    answer = 0\n",
    "    for i in range(room+1):\n",
    "        print(\"i \", i)\n",
    "        for j in range(room):\n",
    "            print(\"j \", j)\n",
    "            for k in range(1, j+1):\n",
    "                print(\"k \", k)\n",
    "                answer += k\n",
    "    print(answer)"
   ]
  },
  {
   "cell_type": "code",
   "execution_count": null,
   "id": "2d9fdb35",
   "metadata": {},
   "outputs": [],
   "source": []
  }
 ],
 "metadata": {
  "kernelspec": {
   "display_name": "Python 3",
   "language": "python",
   "name": "python3"
  },
  "language_info": {
   "codemirror_mode": {
    "name": "ipython",
    "version": 3
   },
   "file_extension": ".py",
   "mimetype": "text/x-python",
   "name": "python",
   "nbconvert_exporter": "python",
   "pygments_lexer": "ipython3",
   "version": "3.8.8"
  }
 },
 "nbformat": 4,
 "nbformat_minor": 5
}
