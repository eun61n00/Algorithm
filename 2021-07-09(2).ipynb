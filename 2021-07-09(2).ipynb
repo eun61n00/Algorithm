{
 "cells": [
  {
   "cell_type": "code",
   "execution_count": 1,
   "id": "9b7d6d3e",
   "metadata": {},
   "outputs": [
    {
     "name": "stdout",
     "output_type": "stream",
     "text": [
      "2\n",
      "6 12 10\n",
      "402\n",
      "30 50 72\n",
      "1203\n"
     ]
    }
   ],
   "source": [
    "t = int(input())\n",
    "for _ in range(t):\n",
    "    h, w, n = map(int, input().split()) #층수, #방수, #몇번째손님\n",
    "    room = n // h + 1\n",
    "    room = room.zfill(2)\n",
    "    floor = n % h\n",
    "    if floor == 0:\n",
    "        floor = 1\n",
    "    print(floor, room, sep='')"
   ]
  },
  {
   "cell_type": "code",
   "execution_count": null,
   "id": "b07d2d8f",
   "metadata": {},
   "outputs": [],
   "source": []
  }
 ],
 "metadata": {
  "kernelspec": {
   "display_name": "Python 3",
   "language": "python",
   "name": "python3"
  },
  "language_info": {
   "codemirror_mode": {
    "name": "ipython",
    "version": 3
   },
   "file_extension": ".py",
   "mimetype": "text/x-python",
   "name": "python",
   "nbconvert_exporter": "python",
   "pygments_lexer": "ipython3",
   "version": "3.8.8"
  }
 },
 "nbformat": 4,
 "nbformat_minor": 5
}
