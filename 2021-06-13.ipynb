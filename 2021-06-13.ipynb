{
 "cells": [
  {
   "cell_type": "markdown",
   "metadata": {},
   "source": [
    "# BAEKJOON #1966) 프린터 큐"
   ]
  },
  {
   "cell_type": "code",
   "execution_count": 1,
   "metadata": {},
   "outputs": [
    {
     "name": "stdout",
     "output_type": "stream",
     "text": [
      "3\n",
      "1 0\n",
      "5\n",
      "4 2\n",
      "1 2 3 4\n",
      "6 0\n",
      "1 1 9 1 1 1\n"
     ]
    }
   ],
   "source": [
    "test_case = int(input())\n",
    "answer_list = []\n",
    "\n",
    "for i in range(test_case):\n",
    "    n, index = map(int, input().split())\n",
    "    importance = list(map(int, input().split()))\n",
    "    \n",
    "    count = 0\n",
    "    target = importance[index]\n",
    "    \n",
    "    while importance[0] != max(importance):\n",
    "        tmp = importance[0]\n",
    "        del importance[0]\n",
    "        importance.append(tmp)\n",
    "    if importance[0] == target:\n",
    "        exit(0)\n",
    "    del importance[0]\n",
    "    count += 1\n",
    "    \n",
    "    answer_list.append(count+1)"
   ]
  },
  {
   "cell_type": "code",
   "execution_count": 2,
   "metadata": {},
   "outputs": [
    {
     "data": {
      "text/plain": [
       "[2, 2, 2]"
      ]
     },
     "execution_count": 2,
     "metadata": {},
     "output_type": "execute_result"
    }
   ],
   "source": [
    "answer_list"
   ]
  },
  {
   "cell_type": "code",
   "execution_count": 4,
   "metadata": {},
   "outputs": [
    {
     "name": "stdout",
     "output_type": "stream",
     "text": [
      "3\n",
      "1 0\n",
      "5\n",
      "1\n",
      "4 2\n",
      "1 2 3 4\n",
      "2\n",
      "6 0\n",
      "1 1 9 1 1 1\n",
      "5\n"
     ]
    }
   ],
   "source": [
    "test_case = int(input())\n",
    "\n",
    "for _ in range(test_case):\n",
    "    n, m = list(map(int, input().split()))\n",
    "    queue = list(map(int, input().split()))\n",
    "    queue = [(i, idx) for idx, i in enumerate(queue)]\n",
    "    \n",
    "    count = 0\n",
    "    while True:\n",
    "        if queue[0][0] == max(queue, key = lambda x:x[0])[0]:\n",
    "            count += 1\n",
    "            if queue[0][1] == m:\n",
    "                print(count)\n",
    "                break\n",
    "            else:\n",
    "                queue.pop(0)\n",
    "        else:\n",
    "            queue.append(queue.pop(0))"
   ]
  },
  {
   "cell_type": "markdown",
   "metadata": {},
   "source": [
    "# BAEKJOON #1874) 스택수열 (복습)"
   ]
  },
  {
   "cell_type": "code",
   "execution_count": 26,
   "metadata": {
    "scrolled": true
   },
   "outputs": [
    {
     "name": "stdout",
     "output_type": "stream",
     "text": [
      "5\n",
      "1\n",
      "2\n",
      "5\n",
      "3\n",
      "4\n",
      "NO\n"
     ]
    }
   ],
   "source": [
    "n = int(input())\n",
    "count = 1\n",
    "stack = []\n",
    "stack_sequence = []\n",
    "answer = []\n",
    "num_list = []\n",
    "\n",
    "for _ in range(n):\n",
    "    num = int(input())\n",
    "    num_list.append(num)\n",
    "    while count <= num:\n",
    "        answer.append('+')\n",
    "        stack.append(count)\n",
    "        count += 1\n",
    "    answer.append('-')\n",
    "    stack_sequence.append(stack.pop(-1))\n",
    "if num_list != stack_sequence:\n",
    "    print(\"NO\")\n",
    "else:\n",
    "    print('\\n'.join(answer))"
   ]
  },
  {
   "cell_type": "code",
   "execution_count": 17,
   "metadata": {},
   "outputs": [
    {
     "data": {
      "text/plain": [
       "['+',\n",
       " '+',\n",
       " '+',\n",
       " '+',\n",
       " '-',\n",
       " '-',\n",
       " '+',\n",
       " '+',\n",
       " '-',\n",
       " '+',\n",
       " '+',\n",
       " '-',\n",
       " '-',\n",
       " '-',\n",
       " '-',\n",
       " '-']"
      ]
     },
     "execution_count": 17,
     "metadata": {},
     "output_type": "execute_result"
    }
   ],
   "source": [
    "answer"
   ]
  },
  {
   "cell_type": "code",
   "execution_count": 18,
   "metadata": {
    "scrolled": true
   },
   "outputs": [
    {
     "data": {
      "text/plain": [
       "[]"
      ]
     },
     "execution_count": 18,
     "metadata": {},
     "output_type": "execute_result"
    }
   ],
   "source": [
    "stack"
   ]
  },
  {
   "cell_type": "code",
   "execution_count": 19,
   "metadata": {},
   "outputs": [
    {
     "data": {
      "text/plain": [
       "[1, 2, 3, 4, 5, 6, 7, 8]"
      ]
     },
     "execution_count": 19,
     "metadata": {},
     "output_type": "execute_result"
    }
   ],
   "source": [
    "stack_sequence"
   ]
  },
  {
   "cell_type": "code",
   "execution_count": null,
   "metadata": {},
   "outputs": [],
   "source": []
  }
 ],
 "metadata": {
  "kernelspec": {
   "display_name": "Python 3",
   "language": "python",
   "name": "python3"
  },
  "language_info": {
   "codemirror_mode": {
    "name": "ipython",
    "version": 3
   },
   "file_extension": ".py",
   "mimetype": "text/x-python",
   "name": "python",
   "nbconvert_exporter": "python",
   "pygments_lexer": "ipython3",
   "version": "3.8.5"
  }
 },
 "nbformat": 4,
 "nbformat_minor": 4
}
